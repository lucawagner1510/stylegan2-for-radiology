https://colab.research.google.com/github/lucawagner1510/StyleGAN2-Tensorflow-2.0/blob/master/stylegan.ipynb
