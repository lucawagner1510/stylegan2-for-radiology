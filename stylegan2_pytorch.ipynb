{
  "nbformat": 4,
  "nbformat_minor": 0,
  "metadata": {
    "colab": {
      "name": "stylegan2_pytorch.ipynb",
      "provenance": [],
      "collapsed_sections": [],
      "authorship_tag": "ABX9TyPNNKQ+LcDkQq9+r7BlsDhR",
      "include_colab_link": true
    },
    "kernelspec": {
      "name": "python3",
      "display_name": "Python 3"
    },
    "accelerator": "GPU"
  },
  "cells": [
    {
      "cell_type": "markdown",
      "metadata": {
        "id": "view-in-github",
        "colab_type": "text"
      },
      "source": [
        "<a href=\"https://colab.research.google.com/github/lucawagner1510/stylegan2-for-radiology/blob/main/stylegan2_pytorch.ipynb\" target=\"_parent\"><img src=\"https://colab.research.google.com/assets/colab-badge.svg\" alt=\"Open In Colab\"/></a>"
      ]
    },
    {
      "cell_type": "code",
      "metadata": {
        "id": "F__j-m2Jupy0",
        "outputId": "12711f11-20a6-4458-dc51-1de328f544bd",
        "colab": {
          "base_uri": "https://localhost:8080/",
          "height": 34
        }
      },
      "source": [
        "from google.colab import drive\n",
        "drive.mount('/content/drive')"
      ],
      "execution_count": 1,
      "outputs": [
        {
          "output_type": "stream",
          "text": [
            "Mounted at /content/drive\n"
          ],
          "name": "stdout"
        }
      ]
    },
    {
      "cell_type": "code",
      "metadata": {
        "id": "65PmAAolu8sa"
      },
      "source": [
        "# https://github.com/lucidrains/stylegan2-pytorch\n",
        "!pip install stylegan2_pytorch"
      ],
      "execution_count": null,
      "outputs": []
    },
    {
      "cell_type": "code",
      "metadata": {
        "id": "-SiUPJNHvEh8",
        "outputId": "ef28f3ec-d0df-4aff-d3fa-38dc0831722f",
        "colab": {
          "base_uri": "https://localhost:8080/",
          "height": 100
        }
      },
      "source": [
        "!stylegan2_pytorch --new \\\n",
        "                    --aug-prob 0.50 \\\n",
        "                    --data /content/drive/My\\ Drive/stylegan/data/images \\\n",
        "                    --name radiographs \\\n",
        "                    --results_dir /content/drive/My\\ Drive/stylegan/data/results \\\n",
        "                     --models_dir /content/drive/My\\ Drive/stylegan/data/models \\\n",
        "                    --image-size 256 --batch-size 5 \\\n",
        "                    --gradient-accumulate-every 16 \\\n",
        "                    --network-capacity 10 \\\n",
        "                    --attn-layers 1"
      ],
      "execution_count": null,
      "outputs": [
        {
          "output_type": "stream",
          "text": [
            "\rradiographs</content/drive/My Drive/stylegan/data/images>:   0% 0/150000 [00:00<?, ?it/s][W TensorIterator.cpp:918] Warning: Mixed memory format inputs detected while calling the operator. The operator will output contiguous tensor even if some of the inputs are in channels_last format. (function operator())\n",
            "[W TensorIterator.cpp:924] Warning: Mixed memory format inputs detected while calling the operator. The operator will output channels_last tensor even if some of the inputs are not in channels_last format. (function operator())\n"
          ],
          "name": "stdout"
        }
      ]
    }
  ]
}